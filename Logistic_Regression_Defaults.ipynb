{
  "nbformat": 4,
  "nbformat_minor": 0,
  "metadata": {
    "colab": {
      "provenance": [],
      "collapsed_sections": [],
      "toc_visible": true
    },
    "kernelspec": {
      "name": "python3",
      "display_name": "Python 3"
    },
    "language_info": {
      "name": "python"
    }
  },
  "cells": [
    {
      "cell_type": "markdown",
      "source": [
        "#Introduction\n",
        "y — has the loan applicant defaulted on his loan? (binary: “1”, means “Yes”, “0” means “No”)"
      ],
      "metadata": {
        "id": "1DAjycKvUMWP"
      }
    },
    {
      "cell_type": "code",
      "source": [
        "from google.colab import drive\n",
        "drive.mount(\"/content/grive\")"
      ],
      "metadata": {
        "id": "Ue4cspUMUPrP"
      },
      "execution_count": null,
      "outputs": []
    },
    {
      "cell_type": "code",
      "source": [
        "import pandas as pd\n",
        "import numpy as np\n",
        "import matplotlib.pyplot as plt\n",
        "import seaborn as sns\n",
        "from sklearn.metrics import r2_score, explained_variance_score, confusion_matrix, accuracy_score, classification_report, log_loss\n",
        "from sklearn.metrics import r2_score, explained_variance_score, confusion_matrix, accuracy_score, classification_report, log_loss, f1_score, recall_score, precision_score"
      ],
      "metadata": {
        "id": "MrXNPT-emhaU"
      },
      "execution_count": 159,
      "outputs": []
    },
    {
      "cell_type": "code",
      "source": [
        "df=pd.read_excel(\"/content/grive/MyDrive/Bank credit risk LG/Bank Default.xlsx\")"
      ],
      "metadata": {
        "id": "XvW1PbJMvYlh"
      },
      "execution_count": 168,
      "outputs": []
    },
    {
      "cell_type": "markdown",
      "source": [
        "#We create unseen data from the oreginal ones"
      ],
      "metadata": {
        "id": "EoRFd8sJu31B"
      }
    },
    {
      "cell_type": "code",
      "source": [
        "data_unseen=df.loc[:,df.columns!=\"y\"]\n",
        "data_unseen=data_unseen.sample(n=1000)\n",
        "data_unseen\n",
        "print(len(data_unseen))\n",
        "print(\"\")\n",
        "print(len(df))"
      ],
      "metadata": {
        "colab": {
          "base_uri": "https://localhost:8080/"
        },
        "id": "zi1S0pBvu7Kl",
        "outputId": "45040735-163d-488a-c682-5ff68c88b62a"
      },
      "execution_count": 171,
      "outputs": [
        {
          "output_type": "stream",
          "name": "stdout",
          "text": [
            "1000\n",
            "\n",
            "41188\n"
          ]
        }
      ]
    },
    {
      "cell_type": "code",
      "source": [
        "df = df.drop(data_unseen.index)\n",
        "len(df)"
      ],
      "metadata": {
        "colab": {
          "base_uri": "https://localhost:8080/"
        },
        "id": "7Zq5CeUdwXG-",
        "outputId": "3e672393-5205-411f-fd61-b5418de83e8a"
      },
      "execution_count": 172,
      "outputs": [
        {
          "output_type": "execute_result",
          "data": {
            "text/plain": [
              "40188"
            ]
          },
          "metadata": {},
          "execution_count": 172
        }
      ]
    },
    {
      "cell_type": "code",
      "source": [
        "df"
      ],
      "metadata": {
        "id": "_qB6hHq1wxex"
      },
      "execution_count": null,
      "outputs": []
    },
    {
      "cell_type": "code",
      "source": [
        "from sklearn.linear_model import LogisticRegression\n",
        "from sklearn.feature_selection import RFE\n",
        "from sklearn.ensemble import GradientBoostingClassifier\n",
        "from sklearn.ensemble import GradientBoostingRegressor\n",
        "from sklearn.metrics import r2_score, explained_variance_score, mean_absolute_error, mean_squared_error\n",
        "from math import sqrt\n",
        "from sklearn.model_selection import RandomizedSearchCV, StratifiedKFold, train_test_split\n",
        "from sklearn.linear_model import LogisticRegressionCV\n",
        "from sklearn.model_selection import KFold\n",
        "from sklearn.metrics import r2_score, explained_variance_score, confusion_matrix, accuracy_score, classification_report, log_loss"
      ],
      "metadata": {
        "id": "p1m8iDLKL_7P"
      },
      "execution_count": 6,
      "outputs": []
    },
    {
      "cell_type": "code",
      "source": [
        "df.columns"
      ],
      "metadata": {
        "colab": {
          "base_uri": "https://localhost:8080/"
        },
        "id": "Vr38T-oo52e9",
        "outputId": "5e9e065c-baf6-499d-d958-b0efa4d1c2dc"
      },
      "execution_count": 173,
      "outputs": [
        {
          "output_type": "execute_result",
          "data": {
            "text/plain": [
              "Index(['loan_applicant_id', 'age', 'education', 'years_with_current_employer',\n",
              "       'years_at_current_address', 'household_income', 'debt_to_income_ratio',\n",
              "       'credit_card_debt', 'other_debt', 'y'],\n",
              "      dtype='object')"
            ]
          },
          "metadata": {},
          "execution_count": 173
        }
      ]
    },
    {
      "cell_type": "markdown",
      "source": [
        "First thing first, we investigate if we have any na values"
      ],
      "metadata": {
        "id": "e3VnHlIYLuhf"
      }
    },
    {
      "cell_type": "code",
      "source": [
        "df.isnull().sum()\n",
        "df.head()\n",
        "df.dtypes\n",
        "df.describe()"
      ],
      "metadata": {
        "id": "gYUUJ_KEL1C7"
      },
      "execution_count": null,
      "outputs": []
    },
    {
      "cell_type": "markdown",
      "source": [
        "Education is the onlyh variable that is a string. So we have to transform to integer by using one-hot-encoding."
      ],
      "metadata": {
        "id": "FHVoCp_bOiYY"
      }
    },
    {
      "cell_type": "code",
      "source": [
        "df[\"education\"].unique()\n",
        "print(pd.get_dummies(df[\"education\"]))\n",
        "#df['team'] = pd.factorize(df['team'])[0] we cant use factorise to machine learning models due to after factorise somehow create an order to values\n",
        "# 1<2<3 and this not somethink that we are looking for. So the usage of one hot encoding is unidirectional.\n"
      ],
      "metadata": {
        "id": "uiFuC9uYmnUl"
      },
      "execution_count": null,
      "outputs": []
    },
    {
      "cell_type": "code",
      "source": [
        "dummies=pd.get_dummies(df[\"education\"])\n",
        "dummies=pd.DataFrame(dummies)"
      ],
      "metadata": {
        "id": "khBjrLMMoMM2"
      },
      "execution_count": 176,
      "outputs": []
    },
    {
      "cell_type": "code",
      "source": [
        "df=pd.concat([df,dummies],axis=1)\n",
        "del df[\"education\"]\n",
        "df"
      ],
      "metadata": {
        "id": "mJvjEX9bPdkJ"
      },
      "execution_count": null,
      "outputs": []
    },
    {
      "cell_type": "markdown",
      "source": [
        "#Descriptive statistic "
      ],
      "metadata": {
        "id": "jaGKIWN9QWa8"
      }
    },
    {
      "cell_type": "code",
      "source": [
        "df.columns"
      ],
      "metadata": {
        "colab": {
          "base_uri": "https://localhost:8080/"
        },
        "id": "7bnjgkKGQ3ny",
        "outputId": "bbd6c587-159b-4ab8-e7d0-e22c208c79ef"
      },
      "execution_count": 178,
      "outputs": [
        {
          "output_type": "execute_result",
          "data": {
            "text/plain": [
              "Index(['loan_applicant_id', 'age', 'years_with_current_employer',\n",
              "       'years_at_current_address', 'household_income', 'debt_to_income_ratio',\n",
              "       'credit_card_debt', 'other_debt', 'y', 'basic', 'high.school',\n",
              "       'illiterate', 'professional.course', 'university.degree'],\n",
              "      dtype='object')"
            ]
          },
          "metadata": {},
          "execution_count": 178
        }
      ]
    },
    {
      "cell_type": "code",
      "source": [
        "numeric2=df[['age', 'years_with_current_employer','years_at_current_address', 'household_income', 'debt_to_income_ratio','credit_card_debt', 'other_debt']]"
      ],
      "metadata": {
        "id": "AIAgQsnZQz4f"
      },
      "execution_count": 179,
      "outputs": []
    },
    {
      "cell_type": "code",
      "source": [
        "# Example 8 - Investigating the distribution \n",
        "# Increases the size of sns plots\n",
        "sns.set(rc={'figure.figsize':(8,5)})\n",
        "\n",
        "\n",
        "for n in numeric2:\n",
        "    x = df[n].values\n",
        "    sns.distplot(x, color = 'blue');\n",
        "\n",
        "    # Calculating the mean\n",
        "    mean = df[n].mean()\n",
        "\n",
        "    #ploting the mean\n",
        "    plt.axvline(mean, 0,1, color = 'red')\n",
        "    plt.title(n)\n",
        "    plt.show()"
      ],
      "metadata": {
        "id": "H6-aC8fQQV8g"
      },
      "execution_count": null,
      "outputs": []
    },
    {
      "cell_type": "markdown",
      "source": [
        "For the outliers "
      ],
      "metadata": {
        "id": "nvzXvSxFRKEn"
      }
    },
    {
      "cell_type": "code",
      "source": [
        "# Example 8 - Investigating the outliers\n",
        "# Increases the size of sns plots\n",
        "sns.set(rc={'figure.figsize':(8,5)})\n",
        "\n",
        "\n",
        "for n in numeric2:\n",
        "    x = df[n].values\n",
        "    sns.boxplot(x, color = 'blue')\n",
        "    plt.title(n)\n",
        "    plt.show()"
      ],
      "metadata": {
        "id": "bqFKthAxRNpe"
      },
      "execution_count": null,
      "outputs": []
    },
    {
      "cell_type": "markdown",
      "source": [
        "As we can see both of  the variables other debt and credit card debt have many outliers."
      ],
      "metadata": {
        "id": "fBGfuD6LR2lF"
      }
    },
    {
      "cell_type": "code",
      "source": [
        "import seaborn as sns\n",
        "sns.set(style=\"white\")\n",
        "sns.kdeplot( df[\"age\"].loc[df[\"y\"] == 0], hue=df[\"y\"], shade=True)\n",
        "sns.kdeplot( df[\"age\"].loc[df[\"y\"] == 1], hue=df[\"y\"], shade=True)"
      ],
      "metadata": {
        "id": "CM373H02SKoC"
      },
      "execution_count": null,
      "outputs": []
    },
    {
      "cell_type": "code",
      "source": [
        "df[\"age\"].loc[df[\"y\"] == 0].describe()\n",
        "df[\"age\"].loc[df[\"y\"] == 1].describe()"
      ],
      "metadata": {
        "id": "Yi3wYGTCTiRi"
      },
      "execution_count": null,
      "outputs": []
    },
    {
      "cell_type": "markdown",
      "source": [
        "#SMOTE ALGORITHM "
      ],
      "metadata": {
        "id": "4gtbkZ8tTpfH"
      }
    },
    {
      "cell_type": "code",
      "source": [
        "from imblearn.over_sampling import SMOTE\n",
        "from sklearn.model_selection import train_test_split\n",
        "\n",
        "X=df.loc[:,(df.columns != \"y\") & (df.columns !=\"loan_applicant_id\")]\n",
        "y=df[\"y\"]\n"
      ],
      "metadata": {
        "id": "k4l38aRbmxDm"
      },
      "execution_count": 180,
      "outputs": []
    },
    {
      "cell_type": "code",
      "source": [
        "X_train, X_test, Y_train, Y_test=train_test_split(X,y,test_size=0.2,random_state=42)"
      ],
      "metadata": {
        "id": "CnaI-BXIm4tV"
      },
      "execution_count": 181,
      "outputs": []
    },
    {
      "cell_type": "code",
      "source": [
        "smote=SMOTE()\n",
        "smote_X, smote_Y=smote.fit_resample(X_train,Y_train)"
      ],
      "metadata": {
        "id": "9lo0zhtem7Dq"
      },
      "execution_count": 182,
      "outputs": []
    },
    {
      "cell_type": "markdown",
      "source": [
        "##Scale"
      ],
      "metadata": {
        "id": "bEfRr2X3upxv"
      }
    },
    {
      "cell_type": "code",
      "source": [
        "from sklearn.preprocessing import MinMaxScaler\n",
        "\n",
        "scaler = MinMaxScaler()\n",
        "scaler.fit_transform(smote_X)"
      ],
      "metadata": {
        "id": "vNTA57Jqw-nQ"
      },
      "execution_count": null,
      "outputs": []
    },
    {
      "cell_type": "code",
      "source": [
        "#smote_X=pd.DataFrame(smote_X,columns=X.columns)\n",
        "#smote_X\n",
        "#smote_Y=pd.DataFrame(data=smote_Y)"
      ],
      "metadata": {
        "id": "U1C90T8Xm9sV"
      },
      "execution_count": 35,
      "outputs": []
    },
    {
      "cell_type": "markdown",
      "source": [
        "###Logistic Reggresion"
      ],
      "metadata": {
        "id": "VokAuE5_nHmv"
      }
    },
    {
      "cell_type": "code",
      "source": [
        "model_1=LogisticRegression()\n",
        "model_1.fit(smote_X,smote_Y)\n",
        "\n",
        "y_pred=model_1.predict(X_test)"
      ],
      "metadata": {
        "colab": {
          "base_uri": "https://localhost:8080/"
        },
        "id": "FIb6GvyfnGC-",
        "outputId": "bee1640d-77fc-4a67-b2fe-de5428766abd"
      },
      "execution_count": 185,
      "outputs": [
        {
          "output_type": "stream",
          "name": "stderr",
          "text": [
            "/usr/local/lib/python3.7/dist-packages/sklearn/linear_model/_logistic.py:818: ConvergenceWarning: lbfgs failed to converge (status=1):\n",
            "STOP: TOTAL NO. of ITERATIONS REACHED LIMIT.\n",
            "\n",
            "Increase the number of iterations (max_iter) or scale the data as shown in:\n",
            "    https://scikit-learn.org/stable/modules/preprocessing.html\n",
            "Please also refer to the documentation for alternative solver options:\n",
            "    https://scikit-learn.org/stable/modules/linear_model.html#logistic-regression\n",
            "  extra_warning_msg=_LOGISTIC_SOLVER_CONVERGENCE_MSG,\n"
          ]
        }
      ]
    },
    {
      "cell_type": "markdown",
      "source": [
        "###Metrics of Logistic Regression"
      ],
      "metadata": {
        "id": "PieNvAaanxYG"
      }
    },
    {
      "cell_type": "code",
      "source": [
        "print(\"\\033[1m the f1_score of the modes is :\",f1_score(Y_test,y_pred))\n",
        "print(\"\\n\")\n",
        "print(\"\\033[1m the recall score is:\",recall_score(Y_test,y_pred))\n",
        "print()\n",
        "print(\"\\033[1m the precision score is:\",precision_score(Y_test,y_pred))\n",
        "print()\n",
        "print(\"\\033[1m the confusion matrix is:\",print(confusion_matrix(Y_test,y_pred)))"
      ],
      "metadata": {
        "colab": {
          "base_uri": "https://localhost:8080/"
        },
        "id": "LKNXv6QKn0YC",
        "outputId": "91703433-e5b1-418b-8ed6-177cd4fb06ca"
      },
      "execution_count": 186,
      "outputs": [
        {
          "output_type": "stream",
          "name": "stdout",
          "text": [
            "\u001b[1m the f1_score of the modes is : 0.5861434702636419\n",
            "\n",
            "\n",
            "\u001b[1m the recall score is: 0.5090521831735889\n",
            "\n",
            "\u001b[1m the precision score is: 0.6907514450867052\n",
            "\n",
            "[[6885  214]\n",
            " [ 461  478]]\n",
            "\u001b[1m the confusion matrix is: None\n"
          ]
        }
      ]
    },
    {
      "cell_type": "code",
      "source": [
        "print(classification_report(Y_test,y_pred))\n",
        "print(\"\\n\")\n",
        "fig, ax=plt.subplots(figsize=(8,5))\n",
        "\n",
        "#sns.heatmap()\n",
        "matrix=confusion_matrix(Y_test,y_pred)\n",
        "#plt.confusion_matrix(Y_test,y_pred,show_absolute=True,show_normed=True,colorbar=True)\n",
        "from sklearn.metrics import plot_confusion_matrix\n",
        "plot_confusion_matrix(model_1, X_test,Y_test ,cmap=plt.cm.Blues,colorbar=True,ax=ax)\n",
        "\n",
        "#sns.heatmap(matrix,annot=True,ax=ax)\n"
      ],
      "metadata": {
        "colab": {
          "base_uri": "https://localhost:8080/",
          "height": 602
        },
        "id": "p-JR14kqoZ6V",
        "outputId": "c8cf1b85-0eb4-4fc6-f927-1520a400f9ff"
      },
      "execution_count": 187,
      "outputs": [
        {
          "output_type": "stream",
          "name": "stdout",
          "text": [
            "              precision    recall  f1-score   support\n",
            "\n",
            "           0       0.94      0.97      0.95      7099\n",
            "           1       0.69      0.51      0.59       939\n",
            "\n",
            "    accuracy                           0.92      8038\n",
            "   macro avg       0.81      0.74      0.77      8038\n",
            "weighted avg       0.91      0.92      0.91      8038\n",
            "\n",
            "\n",
            "\n"
          ]
        },
        {
          "output_type": "stream",
          "name": "stderr",
          "text": [
            "/usr/local/lib/python3.7/dist-packages/sklearn/utils/deprecation.py:87: FutureWarning: Function plot_confusion_matrix is deprecated; Function `plot_confusion_matrix` is deprecated in 1.0 and will be removed in 1.2. Use one of the class methods: ConfusionMatrixDisplay.from_predictions or ConfusionMatrixDisplay.from_estimator.\n",
            "  warnings.warn(msg, category=FutureWarning)\n"
          ]
        },
        {
          "output_type": "execute_result",
          "data": {
            "text/plain": [
              "<sklearn.metrics._plot.confusion_matrix.ConfusionMatrixDisplay at 0x7f74e28e4650>"
            ]
          },
          "metadata": {},
          "execution_count": 187
        },
        {
          "output_type": "display_data",
          "data": {
            "text/plain": [
              "<Figure size 576x360 with 2 Axes>"
            ],
            "image/png": "[encoded data removed]"
          },
          "metadata": {}
        }
      ]
    },
    {
      "cell_type": "code",
      "source": [
        "from sklearn.metrics import roc_auc_score\n",
        "from sklearn.metrics import roc_curve\n",
        "from numpy import sqrt\n",
        "from numpy import argmax\n",
        "print(roc_auc_score(Y_test, model_1.predict(X_test)))"
      ],
      "metadata": {
        "colab": {
          "base_uri": "https://localhost:8080/"
        },
        "id": "FdIaA3GMogoe",
        "outputId": "0216162d-4df7-4268-c25e-f4b918557762"
      },
      "execution_count": 188,
      "outputs": [
        {
          "output_type": "stream",
          "name": "stdout",
          "text": [
            "0.7394535461578606\n"
          ]
        }
      ]
    },
    {
      "cell_type": "code",
      "source": [
        "y_pred_prob=model_1.predict_proba(X_test)[:,1]\n",
        "fpr, tpr, threshold=roc_curve(Y_test,y_pred_prob)\n",
        "\n",
        "gmeans=sqrt(tpr*(1-fpr))\n",
        "gmeans\n",
        "# locate the index of the largest g-mean\n",
        "ix = argmax(gmeans)\n",
        "print('Best Threshold=%f, G-Mean=%.3f' % (threshold[ix], gmeans[ix]))"
      ],
      "metadata": {
        "colab": {
          "base_uri": "https://localhost:8080/"
        },
        "id": "FcNim5t3ca_A",
        "outputId": "e713fe91-9ac6-4fde-e42f-1db38fe8b2c0"
      },
      "execution_count": 189,
      "outputs": [
        {
          "output_type": "stream",
          "name": "stdout",
          "text": [
            "Best Threshold=0.368514, G-Mean=0.742\n"
          ]
        }
      ]
    },
    {
      "cell_type": "markdown",
      "source": [
        "### The roc auc score is 0.741748834426455"
      ],
      "metadata": {
        "id": "FCCVHCSPWj0C"
      }
    },
    {
      "cell_type": "code",
      "source": [
        "logit_roc_auc = roc_auc_score(Y_test, model_1.predict(X_test))\n",
        "fpr, tpr, thresholds = roc_curve(Y_test, model_1.predict_proba(X_test)[:,1])\n",
        "plt.figure(figsize=(8,10))\n",
        "plt.plot(fpr, tpr, label=\"Logistic Regression (area = %0.2f)\" % logit_roc_auc)\n",
        "plt.plot([0, 1], [0, 1])\n",
        "plt.scatter(fpr[ix],tpr[ix],marker=\".\",linewidth=20,label=\"optimal threshold (area = %0.2f)\" % threshold[ix],color=\"black\")\n",
        "plt.xlim([0.0, 1.0])\n",
        "plt.ylim([0.0, 1.05])\n",
        "plt.xlabel(\"False Positive Rate\",fontsize=20)\n",
        "plt.ylabel(\"True Positive Rate\",fontsize=20)\n",
        "plt.title(\"Receiver operating characteristic\",fontsize=20)\n",
        "plt.legend(loc=\"lower right\",fontsize=20)\n",
        "plt.savefig(\"Log_ROC\")\n",
        "plt.show()"
      ],
      "metadata": {
        "colab": {
          "base_uri": "https://localhost:8080/",
          "height": 638
        },
        "id": "8LvbiRfAojqZ",
        "outputId": "33ea2283-39fb-4278-b1a4-9e86c4012440"
      },
      "execution_count": 192,
      "outputs": [
        {
          "output_type": "display_data",
          "data": {
            "text/plain": [
              "<Figure size 576x720 with 1 Axes>"
            ],
            "image/png": "[encoded data removed]"
          },
          "metadata": {}
        }
      ]
    },
    {
      "cell_type": "markdown",
      "source": [
        "#Optimazitation"
      ],
      "metadata": {
        "id": "o4W8hjWNo1Yt"
      }
    },
    {
      "cell_type": "code",
      "source": [
        "#param= {'C': [0.1, 0.5, 1,10,15,20], 'penalty': ['l1','l2']}\n",
        "param_grid=[{\"penalty\":[\"l1\",\"l2\",\"elasticnet\",\"none\"],\"C\":np.logspace(-4,4,20)}]\n",
        "\n",
        "from sklearn.model_selection import StratifiedKFold\n",
        "from sklearn.model_selection import GridSearchCV\n",
        "#Hyperparameter tuning\n",
        "# define model/create instance\n",
        "lr=LogisticRegression()\n",
        "#tuning weight for minority class then weight for majority class will be 1-weight of minority class\n",
        "#Setting the range for class weights\n",
        "#weights = np.linspace(0.0,0.99,500)\n",
        "#specifying all hyperparameters with possible values\n",
        "#param= {'C': [0.1, 0.5, 1,10,15,20], 'penalty': ['l1', 'l2'],\"class_weight\":[{0:x ,1:1.0 -x} for x in weights]}\n",
        "# create 5 folds\n",
        "\n",
        "folds = StratifiedKFold(n_splits = 5, shuffle = True, random_state = 42)\n",
        "\n",
        "#Gridsearch for hyperparam tuning\n",
        "\n",
        "model_2= GridSearchCV(estimator= lr,param_grid=param_grid,scoring=\"f1\",cv=folds,return_train_score=True)\n",
        "#train model to learn relationships between x and y\n",
        "\n",
        "model_2.fit(smote_X,smote_Y)"
      ],
      "metadata": {
        "id": "CppSK6Ryo8UL"
      },
      "execution_count": null,
      "outputs": []
    },
    {
      "cell_type": "code",
      "source": [
        "# print best hyperparameters\n",
        "print(\"Best F1 score: \", model_2.best_score_)\n",
        "print(\"\\n\")\n",
        "print(\"Best hyperparameters: \", model_2.best_params_)\n"
      ],
      "metadata": {
        "colab": {
          "base_uri": "https://localhost:8080/"
        },
        "id": "OsH39oTZpNm-",
        "outputId": "21a60ba3-8f7e-4eb3-fb12-f291e6966aa1"
      },
      "execution_count": 194,
      "outputs": [
        {
          "output_type": "stream",
          "name": "stdout",
          "text": [
            "Best F1 score:  0.9037521356037093\n",
            "\n",
            "\n",
            "Best hyperparameters:  {'C': 206.913808111479, 'penalty': 'l2'}\n"
          ]
        }
      ]
    },
    {
      "cell_type": "code",
      "source": [
        "#Building Model again with best params\n",
        "model_2=LogisticRegression(C=206.913808111479,penalty=\"l2\")\n",
        "model_2.fit(smote_X,smote_Y)"
      ],
      "metadata": {
        "id": "qBJMaLLnpbqk"
      },
      "execution_count": null,
      "outputs": []
    },
    {
      "cell_type": "code",
      "source": [
        "y_pred=model_2.predict(X_test)\n",
        "\n",
        "y_pred_prob=model_2.predict_proba(X_test)[:,1]\n"
      ],
      "metadata": {
        "id": "fA3e8OFUpmBb"
      },
      "execution_count": 196,
      "outputs": []
    },
    {
      "cell_type": "markdown",
      "source": [
        "###Metrics Optimazitation"
      ],
      "metadata": {
        "id": "WV7DyQGWp6RI"
      }
    },
    {
      "cell_type": "code",
      "source": [
        "from numpy import sqrt\n",
        "from numpy import argmax\n",
        "from sklearn.datasets import make_classification\n",
        "from matplotlib import pyplot"
      ],
      "metadata": {
        "id": "r-lQth3ZqIdO"
      },
      "execution_count": 201,
      "outputs": []
    },
    {
      "cell_type": "code",
      "source": [
        "print(roc_auc_score(Y_test, model_2.predict(X_test)))\n",
        "print()\n",
        "print(\"033[1m this is the f_1 score:\",f1_score(Y_test,y_pred))\n",
        "print(\"\")\n",
        "recall_score(Y_test,y_pred)\n",
        "print(\"\")\n",
        "plot_confusion_matrix(model_2,X_test,Y_test,colorbar=True)\n",
        "#plot_confusion_matrix(model_1, X_test,Y_test ,cmap=plt.cm.Blues,colorbar=True,ax=ax)"
      ],
      "metadata": {
        "id": "eWw0QP7mp5rm"
      },
      "execution_count": null,
      "outputs": []
    },
    {
      "cell_type": "code",
      "source": [
        "roc_auc_score(Y_test, model_2.predict(X_test))\n",
        "print(\"\")\n",
        "print(classification_report(Y_test,y_pred))"
      ],
      "metadata": {
        "id": "9xoYY-mdqQEE"
      },
      "execution_count": null,
      "outputs": []
    },
    {
      "cell_type": "code",
      "source": [
        "fpr, tpr, threshold=roc_curve(Y_test,y_pred_prob)\n",
        "gmeans=sqrt(tpr*(1-fpr))\n",
        "gmeans\n",
        "# locate the index of the largest g-mean\n",
        "ix = argmax(gmeans)\n",
        "print('Best Threshold=%f, G-Mean=%.3f' % (thresholds[ix], gmeans[ix]))"
      ],
      "metadata": {
        "colab": {
          "base_uri": "https://localhost:8080/"
        },
        "id": "bVpj7hipptIa",
        "outputId": "6e8544b4-0707-46bd-d722-f704f43b682d"
      },
      "execution_count": 199,
      "outputs": [
        {
          "output_type": "stream",
          "name": "stdout",
          "text": [
            "Best Threshold=0.289700, G-Mean=0.746\n"
          ]
        }
      ]
    },
    {
      "cell_type": "code",
      "source": [
        "plt.figure(figsize=(8,8))\n",
        "plt.plot( [0,1],[0,1],linestyle=\"--\",linewidth=1,label=\"no skil\")\n",
        "#plt.plot(fpr, tpr, label=\"Logistic Regression (area = %0.2f)\" % logit_roc_auc)\n",
        "plt.plot(fpr, tpr,linestyle=\"solid\",label=\"logistic regression  (area = %0.2f)\" % logit_roc_auc)\n",
        "plt.scatter(fpr[ix],tpr[ix],marker=\".\",linewidth=20,label=\"optimal threshold\")\n",
        "plt.title(\"roc curve optimazition\",fontsize=20)\n",
        "plt.xlabel(\"fpr\",fontsize=20)\n",
        "plt.ylabel(\"tpr\",fontsize=20)\n",
        "plt.legend(loc=\"lower right\",fontsize=20)\n",
        "plt.show()"
      ],
      "metadata": {
        "id": "C-7_SW_ZpzdZ"
      },
      "execution_count": null,
      "outputs": []
    },
    {
      "cell_type": "markdown",
      "source": [
        "##Log Loss "
      ],
      "metadata": {
        "id": "Ot3XqWNtia-6"
      }
    },
    {
      "cell_type": "code",
      "source": [
        "pred_proba_t = model_2.predict_proba(X_test)\n",
        "log_loss = log_loss(y_pred, pred_proba_t)   \n",
        "log_loss"
      ],
      "metadata": {
        "colab": {
          "base_uri": "https://localhost:8080/"
        },
        "id": "Kuyc-E4Oqtne",
        "outputId": "d9dc2c2a-9e93-4632-aa3b-a92175d51d8f"
      },
      "execution_count": 124,
      "outputs": [
        {
          "output_type": "execute_result",
          "data": {
            "text/plain": [
              "0.19139731180393008"
            ]
          },
          "metadata": {},
          "execution_count": 124
        }
      ]
    },
    {
      "cell_type": "markdown",
      "source": [
        "#Optimazitation with feature selection"
      ],
      "metadata": {
        "id": "QdRTpdY0qZTs"
      }
    },
    {
      "cell_type": "code",
      "source": [
        "del final_fi"
      ],
      "metadata": {
        "id": "CqdkkeNaheao"
      },
      "execution_count": 125,
      "outputs": []
    },
    {
      "cell_type": "code",
      "source": [
        "from sklearn.tree import DecisionTreeClassifier\n",
        "\n",
        "# Split the data into X & y\n",
        "\n",
        "#X_columns = new_raw_data.drop(['Transported','PassengerId','Name'], axis = 1)\n",
        "#y = new_raw_data['Transported']\n",
        "\n",
        "\n",
        "# Run a Tree-based estimators (i.e. decision trees & random forests)\n",
        "dt = DecisionTreeClassifier(random_state=15, criterion  = 'entropy', max_depth = 10)\n",
        "dt.fit(smote_X,smote_Y)\n",
        "\n",
        "# If you want to learn how Decesion Trees work, read here: https://www.datacamp.com/community/tutorials/decision-tree-classification-python\n",
        "# Official Doc: https://scikit-learn.org/stable/modules/generated/sklearn.tree.DecisionTreeClassifier.html\n",
        "\n",
        "# Calculating FI\n",
        "for i, column in enumerate(X.columns):\n",
        "    print('Importance of feature {}:, {:.3f}'.format(column, dt.feature_importances_[i]))\n",
        "    \n",
        "    fi = pd.DataFrame({'Variable': [column], 'Feature Importance Score': [dt.feature_importances_[i]]})\n",
        "    \n",
        "    try:\n",
        "        final_fi = pd.concat([final_fi,fi], ignore_index = True)\n",
        "    except:\n",
        "        final_fi = fi\n",
        "        \n",
        "        \n",
        "# Ordering the data\n",
        "\n",
        "#final_fi = final_fi.sort_values('Feature Importance Score', ascending = False).reset_index()            \n",
        "final_fi.sort_values(by=\"Feature Importance Score\",ascending=False)"
      ],
      "metadata": {
        "id": "2hdI1jLtq-yD",
        "colab": {
          "base_uri": "https://localhost:8080/",
          "height": 634
        },
        "outputId": "ce0fe148-15b4-4bfc-e37c-8423394d46cb"
      },
      "execution_count": 126,
      "outputs": [
        {
          "output_type": "stream",
          "name": "stdout",
          "text": [
            "Importance of feature age:, 0.004\n",
            "Importance of feature years_with_current_employer:, 0.010\n",
            "Importance of feature years_at_current_address:, 0.007\n",
            "Importance of feature household_income:, 0.378\n",
            "Importance of feature debt_to_income_ratio:, 0.158\n",
            "Importance of feature credit_card_debt:, 0.006\n",
            "Importance of feature other_debt:, 0.004\n",
            "Importance of feature basic:, 0.026\n",
            "Importance of feature high.school:, 0.050\n",
            "Importance of feature illiterate:, 0.242\n",
            "Importance of feature professional.course:, 0.080\n",
            "Importance of feature university.degree:, 0.034\n"
          ]
        },
        {
          "output_type": "execute_result",
          "data": {
            "text/plain": [
              "                       Variable  Feature Importance Score\n",
              "3              household_income                  0.377845\n",
              "9                    illiterate                  0.241642\n",
              "4          debt_to_income_ratio                  0.158425\n",
              "10          professional.course                  0.080404\n",
              "8                   high.school                  0.049586\n",
              "11            university.degree                  0.034413\n",
              "7                         basic                  0.026313\n",
              "1   years_with_current_employer                  0.009843\n",
              "2      years_at_current_address                  0.007167\n",
              "5              credit_card_debt                  0.006281\n",
              "0                           age                  0.004140\n",
              "6                    other_debt                  0.003941"
            ],
            "text/html": [
              "\n",
              "  <div id=\"df-72250a52-b99e-410b-8b58-3768739a4a0a\">\n",
              "    <div class=\"colab-df-container\">\n",
              "      <div>\n",
              "<style scoped>\n",
              "    .dataframe tbody tr th:only-of-type {\n",
              "        vertical-align: middle;\n",
              "    }\n",
              "\n",
              "    .dataframe tbody tr th {\n",
              "        vertical-align: top;\n",
              "    }\n",
              "\n",
              "    .dataframe thead th {\n",
              "        text-align: right;\n",
              "    }\n",
              "</style>\n",
              "<table border=\"1\" class=\"dataframe\">\n",
              "  <thead>\n",
              "    <tr style=\"text-align: right;\">\n",
              "      <th></th>\n",
              "      <th>Variable</th>\n",
              "      <th>Feature Importance Score</th>\n",
              "    </tr>\n",
              "  </thead>\n",
              "  <tbody>\n",
              "    <tr>\n",
              "      <th>3</th>\n",
              "      <td>household_income</td>\n",
              "      <td>0.377845</td>\n",
              "    </tr>\n",
              "    <tr>\n",
              "      <th>9</th>\n",
              "      <td>illiterate</td>\n",
              "      <td>0.241642</td>\n",
              "    </tr>\n",
              "    <tr>\n",
              "      <th>4</th>\n",
              "      <td>debt_to_income_ratio</td>\n",
              "      <td>0.158425</td>\n",
              "    </tr>\n",
              "    <tr>\n",
              "      <th>10</th>\n",
              "      <td>professional.course</td>\n",
              "      <td>0.080404</td>\n",
              "    </tr>\n",
              "    <tr>\n",
              "      <th>8</th>\n",
              "      <td>high.school</td>\n",
              "      <td>0.049586</td>\n",
              "    </tr>\n",
              "    <tr>\n",
              "      <th>11</th>\n",
              "      <td>university.degree</td>\n",
              "      <td>0.034413</td>\n",
              "    </tr>\n",
              "    <tr>\n",
              "      <th>7</th>\n",
              "      <td>basic</td>\n",
              "      <td>0.026313</td>\n",
              "    </tr>\n",
              "    <tr>\n",
              "      <th>1</th>\n",
              "      <td>years_with_current_employer</td>\n",
              "      <td>0.009843</td>\n",
              "    </tr>\n",
              "    <tr>\n",
              "      <th>2</th>\n",
              "      <td>years_at_current_address</td>\n",
              "      <td>0.007167</td>\n",
              "    </tr>\n",
              "    <tr>\n",
              "      <th>5</th>\n",
              "      <td>credit_card_debt</td>\n",
              "      <td>0.006281</td>\n",
              "    </tr>\n",
              "    <tr>\n",
              "      <th>0</th>\n",
              "      <td>age</td>\n",
              "      <td>0.004140</td>\n",
              "    </tr>\n",
              "    <tr>\n",
              "      <th>6</th>\n",
              "      <td>other_debt</td>\n",
              "      <td>0.003941</td>\n",
              "    </tr>\n",
              "  </tbody>\n",
              "</table>\n",
              "</div>\n",
              "      <button class=\"colab-df-convert\" onclick=\"convertToInteractive('df-72250a52-b99e-410b-8b58-3768739a4a0a')\"\n",
              "              title=\"Convert this dataframe to an interactive table.\"\n",
              "              style=\"display:none;\">\n",
              "        \n",
              "  <svg xmlns=\"http://www.w3.org/2000/svg\" height=\"24px\"viewBox=\"0 0 24 24\"\n",
              "       width=\"24px\">\n",
              "    <path d=\"M0 0h24v24H0V0z\" fill=\"none\"/>\n",
              "    <path d=\"M18.56 5.44l.94 2.06.94-2.06 2.06-.94-2.06-.94-.94-2.06-.94 2.06-2.06.94zm-11 1L8.5 8.5l.94-2.06 2.06-.94-2.06-.94L8.5 2.5l-.94 2.06-2.06.94zm10 10l.94 2.06.94-2.06 2.06-.94-2.06-.94-.94-2.06-.94 2.06-2.06.94z\"/><path d=\"M17.41 7.96l-1.37-1.37c-.4-.4-.92-.59-1.43-.59-.52 0-1.04.2-1.43.59L10.3 9.45l-7.72 7.72c-.78.78-.78 2.05 0 2.83L4 21.41c.39.39.9.59 1.41.59.51 0 1.02-.2 1.41-.59l7.78-7.78 2.81-2.81c.8-.78.8-2.07 0-2.86zM5.41 20L4 18.59l7.72-7.72 1.47 1.35L5.41 20z\"/>\n",
              "  </svg>\n",
              "      </button>\n",
              "      \n",
              "  <style>\n",
              "    .colab-df-container {\n",
              "      display:flex;\n",
              "      flex-wrap:wrap;\n",
              "      gap: 12px;\n",
              "    }\n",
              "\n",
              "    .colab-df-convert {\n",
              "      background-color: #E8F0FE;\n",
              "      border: none;\n",
              "      border-radius: 50%;\n",
              "      cursor: pointer;\n",
              "      display: none;\n",
              "      fill: #1967D2;\n",
              "      height: 32px;\n",
              "      padding: 0 0 0 0;\n",
              "      width: 32px;\n",
              "    }\n",
              "\n",
              "    .colab-df-convert:hover {\n",
              "      background-color: #E2EBFA;\n",
              "      box-shadow: 0px 1px 2px rgba(60, 64, 67, 0.3), 0px 1px 3px 1px rgba(60, 64, 67, 0.15);\n",
              "      fill: #174EA6;\n",
              "    }\n",
              "\n",
              "    [theme=dark] .colab-df-convert {\n",
              "      background-color: #3B4455;\n",
              "      fill: #D2E3FC;\n",
              "    }\n",
              "\n",
              "    [theme=dark] .colab-df-convert:hover {\n",
              "      background-color: #434B5C;\n",
              "      box-shadow: 0px 1px 3px 1px rgba(0, 0, 0, 0.15);\n",
              "      filter: drop-shadow(0px 1px 2px rgba(0, 0, 0, 0.3));\n",
              "      fill: #FFFFFF;\n",
              "    }\n",
              "  </style>\n",
              "\n",
              "      <script>\n",
              "        const buttonEl =\n",
              "          document.querySelector('#df-72250a52-b99e-410b-8b58-3768739a4a0a button.colab-df-convert');\n",
              "        buttonEl.style.display =\n",
              "          google.colab.kernel.accessAllowed ? 'block' : 'none';\n",
              "\n",
              "        async function convertToInteractive(key) {\n",
              "          const element = document.querySelector('#df-72250a52-b99e-410b-8b58-3768739a4a0a');\n",
              "          const dataTable =\n",
              "            await google.colab.kernel.invokeFunction('convertToInteractive',\n",
              "                                                     [key], {});\n",
              "          if (!dataTable) return;\n",
              "\n",
              "          const docLinkHtml = 'Like what you see? Visit the ' +\n",
              "            '<a target=\"_blank\" href=https://colab.research.google.com/notebooks/data_table.ipynb>data table notebook</a>'\n",
              "            + ' to learn more about interactive tables.';\n",
              "          element.innerHTML = '';\n",
              "          dataTable['output_type'] = 'display_data';\n",
              "          await google.colab.output.renderOutput(dataTable, element);\n",
              "          const docLink = document.createElement('div');\n",
              "          docLink.innerHTML = docLinkHtml;\n",
              "          element.appendChild(docLink);\n",
              "        }\n",
              "      </script>\n",
              "    </div>\n",
              "  </div>\n",
              "  "
            ]
          },
          "metadata": {},
          "execution_count": 126
        }
      ]
    },
    {
      "cell_type": "code",
      "source": [
        "X_train=smote_X[[\"household_income\",\"years_at_current_address\",\"credit_card_debt\",\"debt_to_income_ratio\",\"age\",\"professional.course\",\"high.school\",\"university.degree\",\"basic\"]]\n",
        "y=smote_Y\n",
        "X_testaki=X_test[[\"household_income\",\"years_at_current_address\",\"credit_card_debt\",\"debt_to_income_ratio\",\"age\",\"professional.course\",\"high.school\",\"university.degree\",\"basic\"]]"
      ],
      "metadata": {
        "id": "D225izxarMm1"
      },
      "execution_count": 127,
      "outputs": []
    },
    {
      "cell_type": "code",
      "source": [
        "#param= {'C': [0.1, 0.5, 1,10,15,20], 'penalty': ['l1','l2']}\n",
        "param_grid=[{\"penalty\":[\"l1\",\"l2\",\"elasticnet\",\"none\"],\"C\":np.logspace(-4,4,20)}]\n",
        "\n",
        "from sklearn.model_selection import StratifiedKFold\n",
        "from sklearn.model_selection import GridSearchCV\n",
        "#Hyperparameter tuning\n",
        "# define model/create instance\n",
        "lr=LogisticRegression()\n",
        "#tuning weight for minority class then weight for majority class will be 1-weight of minority class\n",
        "#Setting the range for class weights\n",
        "#weights = np.linspace(0.0,0.99,500)\n",
        "#specifying all hyperparameters with possible values\n",
        "#param= {'C': [0.1, 0.5, 1,10,15,20], 'penalty': ['l1', 'l2'],\"class_weight\":[{0:x ,1:1.0 -x} for x in weights]}\n",
        "# create 5 folds\n",
        "\n",
        "folds = StratifiedKFold(n_splits = 5, shuffle = True, random_state = 42)\n",
        "\n",
        "#Gridsearch for hyperparam tuning\n",
        "\n",
        "model_2= GridSearchCV(estimator= lr,param_grid=param_grid,scoring=\"f1\",cv=folds,return_train_score=True)\n",
        "#train model to learn relationships between x and y\n",
        "\n",
        "model_2.fit(X_train,y)"
      ],
      "metadata": {
        "id": "aDXzoeOejsHM"
      },
      "execution_count": null,
      "outputs": []
    },
    {
      "cell_type": "code",
      "source": [
        "# print best hyperparameters\n",
        "print(\"Best F1 score: \", model_2.best_score_)\n",
        "print(\"\\n\")\n",
        "print(\"Best hyperparameters: \", model_2.best_params_)"
      ],
      "metadata": {
        "colab": {
          "base_uri": "https://localhost:8080/"
        },
        "id": "_DQHmtRtkYuw",
        "outputId": "b0050c58-c842-4940-e344-7c6ffcda33c3"
      },
      "execution_count": 129,
      "outputs": [
        {
          "output_type": "stream",
          "name": "stdout",
          "text": [
            "Best F1 score:  0.8137367154161342\n",
            "\n",
            "\n",
            "Best hyperparameters:  {'C': 1.623776739188721, 'penalty': 'l2'}\n"
          ]
        }
      ]
    },
    {
      "cell_type": "code",
      "source": [
        "#logreg=LogisticRegression()\n",
        "\n",
        "model_3=LogisticRegression(C=1.623776739188721,penalty=\"l2\")\n",
        "model_3.fit(X_train,y)\n",
        "y_pred=model_3.predict(X_testaki)"
      ],
      "metadata": {
        "colab": {
          "base_uri": "https://localhost:8080/"
        },
        "id": "hbMdH3S-rWNj",
        "outputId": "91c2462b-3c81-4aed-d334-130dc4fbcf13"
      },
      "execution_count": 130,
      "outputs": [
        {
          "output_type": "stream",
          "name": "stderr",
          "text": [
            "/usr/local/lib/python3.7/dist-packages/sklearn/utils/validation.py:993: DataConversionWarning: A column-vector y was passed when a 1d array was expected. Please change the shape of y to (n_samples, ), for example using ravel().\n",
            "  y = column_or_1d(y, warn=True)\n"
          ]
        }
      ]
    },
    {
      "cell_type": "code",
      "source": [
        "print(\"\\033[1m the f1 score is:\",f1_score(Y_test,y_pred))\n",
        "print(\"\")\n",
        "print(\"\\033[1m the recall_score  is:\",recall_score(Y_test,y_pred))\n",
        "print(\"\")\n",
        "print(\"\\033[1m the recall_score  is:\",print(confusion_matrix(Y_test,y_pred)))"
      ],
      "metadata": {
        "id": "MqpG21p1rgSV"
      },
      "execution_count": null,
      "outputs": []
    },
    {
      "cell_type": "code",
      "source": [
        "#pred_proba_t = logreg.predict_proba(X_testaki)\n",
        "#log_loss = log_loss(y_pred, pred_proba_t)\n",
        "#log_loss"
      ],
      "metadata": {
        "id": "NetlrDWLrqH5"
      },
      "execution_count": null,
      "outputs": []
    },
    {
      "cell_type": "code",
      "source": [
        "print(f1_score(Y_test,y_pred))\n",
        "print(recall_score(Y_test,y_pred))\n",
        "print(roc_auc_score(Y_test,y_pred))\n",
        "#print(classification_report(Y_test,y_pred))\n",
        "precision_score(Y_test,y_pred)"
      ],
      "metadata": {
        "colab": {
          "base_uri": "https://localhost:8080/"
        },
        "id": "o4vFNfBZsNzZ",
        "outputId": "e22c0c93-8627-43f2-9cb4-af819534f768"
      },
      "execution_count": 140,
      "outputs": [
        {
          "output_type": "stream",
          "name": "stdout",
          "text": [
            "0.3650273224043715\n",
            "0.5439739413680782\n",
            "0.6815810666249985\n"
          ]
        },
        {
          "output_type": "execute_result",
          "data": {
            "text/plain": [
              "0.2746710526315789"
            ]
          },
          "metadata": {},
          "execution_count": 140
        }
      ]
    },
    {
      "cell_type": "markdown",
      "source": [
        "#Forecast to Unseen  loan applicants"
      ],
      "metadata": {
        "id": "LRnErdQxspOf"
      }
    },
    {
      "cell_type": "markdown",
      "source": [
        "The best model is the model_2"
      ],
      "metadata": {
        "id": "467bbq6PmC3Z"
      }
    },
    {
      "cell_type": "code",
      "source": [
        "final=pd.get_dummies(data_unseen)\n",
        "del final[\"loan_applicant_id\"]"
      ],
      "metadata": {
        "id": "OKdF9uW00aK9"
      },
      "execution_count": 205,
      "outputs": []
    },
    {
      "cell_type": "code",
      "source": [
        "final"
      ],
      "metadata": {
        "id": "Mno8vd7n1Qjn"
      },
      "execution_count": null,
      "outputs": []
    },
    {
      "cell_type": "code",
      "source": [
        "data_unseen[\"PD\"] = model_2.predict_proba(final)[:,1]\n",
        "data_unseen[\"y\"]=model_2.predict(final)\n",
        "#"
      ],
      "metadata": {
        "id": "W3rOP_omst6r"
      },
      "execution_count": null,
      "outputs": []
    },
    {
      "cell_type": "code",
      "source": [
        "data_unseen[[\"loan_applicant_id\", \"PD\",\"y\"]].head(10)"
      ],
      "metadata": {
        "id": "NVZ50uPb1U94"
      },
      "execution_count": null,
      "outputs": []
    },
    {
      "cell_type": "markdown",
      "source": [
        "##As we have forcast all the probabilities then we can combine the predictions with the original data.\n",
        "That is we dont need to have dummies variables and we just take the PD columns and combine it the original data"
      ],
      "metadata": {
        "id": "TP3xosc3tOih"
      }
    },
    {
      "cell_type": "code",
      "source": [
        "data_unseen"
      ],
      "metadata": {
        "id": "VZHD7at1uMT5"
      },
      "execution_count": null,
      "outputs": []
    },
    {
      "cell_type": "code",
      "source": [
        "data_unseen[\"Prediction Default\"]=np.where(data_unseen[\"y\"]==1,\"Yes\",\"No\")"
      ],
      "metadata": {
        "id": "9haYY8OP1om2"
      },
      "execution_count": 213,
      "outputs": []
    },
    {
      "cell_type": "code",
      "source": [
        "data_unseen.to_excel(\"Final_Defaults.xlsx\")"
      ],
      "metadata": {
        "id": "-t0LExZWvuBi"
      },
      "execution_count": 215,
      "outputs": []
    }
  ]
}